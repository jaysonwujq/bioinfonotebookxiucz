{
 "cells": [
  {
   "cell_type": "markdown",
   "id": "6b5c8a2b",
   "metadata": {},
   "source": [
    "# \n",
    "```\n",
    "计量资料 -> t检验；\n",
    "计数资料，卡方检验.\n",
    "```\n",
    "+ 卡方检验\n",
    "卡方检验是一种用途很广的计数资料的假设检验方法，由卡尔·皮尔逊提出。它属于非参数检验的范畴，主要是比较两个及两个以上样本率( 构成比）以及两个分类变量的关联性分析。其根本思想就是在于比较理论频数和实际频数的吻合程度或拟合优度问题。\n",
    "\n",
    "\n",
    "+ fisher检验\n",
    "\n",
    "https://stackoverflow.com/questions/59495221/apply-chisq-test-for-contingency-table-over-a-dataframe-using-4-row-observations\n",
    "\n",
    "https://stackoverflow.com/questions/41271762/add-results-of-chi-square-test-to-each-row\n",
    "\n",
    "https://coderedirect.com/questions/237570/chi-square-test-for-each-row-in-data-frame\n",
    "\n",
    "https://x2yline.github.io/statistics_note/\n",
    "\n",
    "\n"
   ]
  },
  {
   "cell_type": "code",
   "execution_count": 28,
   "id": "8a259455",
   "metadata": {},
   "outputs": [
    {
     "name": "stderr",
     "output_type": "stream",
     "text": [
      "\n",
      "Attaching package: ‘dplyr’\n",
      "\n",
      "\n",
      "The following objects are masked from ‘package:plyr’:\n",
      "\n",
      "    arrange, count, desc, failwith, id, mutate, rename, summarise,\n",
      "    summarize\n",
      "\n",
      "\n",
      "The following objects are masked from ‘package:stats’:\n",
      "\n",
      "    filter, lag\n",
      "\n",
      "\n",
      "The following objects are masked from ‘package:base’:\n",
      "\n",
      "    intersect, setdiff, setequal, union\n",
      "\n",
      "\n"
     ]
    }
   ],
   "source": [
    "library(dplyr)\n",
    "\n",
    "df = read.table(\"/public/frasergen/MED/work/zhangbo/tmp/jupterlab/11.txt\", header = T, row.names = 1)"
   ]
  },
  {
   "cell_type": "code",
   "execution_count": 18,
   "id": "31af5ce3",
   "metadata": {},
   "outputs": [
    {
     "data": {
      "text/html": [
       "<table class=\"dataframe\">\n",
       "<caption>A data.frame: 1 × 4</caption>\n",
       "<thead>\n",
       "\t<tr><th></th><th scope=col>g1_yes</th><th scope=col>g1_no</th><th scope=col>g2_yes</th><th scope=col>g2_no</th></tr>\n",
       "\t<tr><th></th><th scope=col>&lt;int&gt;</th><th scope=col>&lt;int&gt;</th><th scope=col>&lt;int&gt;</th><th scope=col>&lt;int&gt;</th></tr>\n",
       "</thead>\n",
       "<tbody>\n",
       "\t<tr><th scope=row>site1</th><td>11</td><td>12</td><td>13</td><td>199</td></tr>\n",
       "</tbody>\n",
       "</table>\n"
      ],
      "text/latex": [
       "A data.frame: 1 × 4\n",
       "\\begin{tabular}{r|llll}\n",
       "  & g1\\_yes & g1\\_no & g2\\_yes & g2\\_no\\\\\n",
       "  & <int> & <int> & <int> & <int>\\\\\n",
       "\\hline\n",
       "\tsite1 & 11 & 12 & 13 & 199\\\\\n",
       "\\end{tabular}\n"
      ],
      "text/markdown": [
       "\n",
       "A data.frame: 1 × 4\n",
       "\n",
       "| <!--/--> | g1_yes &lt;int&gt; | g1_no &lt;int&gt; | g2_yes &lt;int&gt; | g2_no &lt;int&gt; |\n",
       "|---|---|---|---|---|\n",
       "| site1 | 11 | 12 | 13 | 199 |\n",
       "\n"
      ],
      "text/plain": [
       "      g1_yes g1_no g2_yes g2_no\n",
       "site1 11     12    13     199  "
      ]
     },
     "metadata": {},
     "output_type": "display_data"
    }
   ],
   "source": [
    "df"
   ]
  },
  {
   "cell_type": "code",
   "execution_count": 22,
   "id": "a6576b0f",
   "metadata": {},
   "outputs": [
    {
     "name": "stderr",
     "output_type": "stream",
     "text": [
      "Warning message in chisq.test(matrix(as.numeric(df[1, ]), nrow = 2, ncol = 2)):\n",
      "“Chi-squared approximation may be incorrect”\n"
     ]
    },
    {
     "data": {
      "text/plain": [
       "\n",
       "\tPearson's Chi-squared test with Yates' continuity correction\n",
       "\n",
       "data:  matrix(as.numeric(df[1, ]), nrow = 2, ncol = 2)\n",
       "X-squared = 34.92, df = 1, p-value = 3.435e-09\n"
      ]
     },
     "metadata": {},
     "output_type": "display_data"
    }
   ],
   "source": [
    "chisq.test(matrix(as.numeric(df[1,]), nrow=2, ncol=2))"
   ]
  },
  {
   "cell_type": "code",
   "execution_count": 44,
   "id": "bdec7ca2",
   "metadata": {},
   "outputs": [],
   "source": [
    "#df$p_value <- apply(df[-1],1,function(x) chisq.test(matrix(x,nrow = 2))$p.value)\n",
    "\n",
    "df1 <- df %>%\n",
    "  rowwise() %>%\n",
    "  mutate(p_value = round(chisq.test(c(g1_yes, g1_no, g2_yes,g2_no))$p.value, 3))"
   ]
  },
  {
   "cell_type": "code",
   "execution_count": 73,
   "id": "7dd8a7fc",
   "metadata": {},
   "outputs": [],
   "source": [
    "\n",
    "df1$q_value <- round(p.adjust(df1$p_value, \"BH\"), 3)"
   ]
  },
  {
   "cell_type": "code",
   "execution_count": 79,
   "id": "6731914f",
   "metadata": {},
   "outputs": [
    {
     "ename": "ERROR",
     "evalue": "Error in rownames_to_column(df2, var = \"car\"): could not find function \"rownames_to_column\"\n",
     "output_type": "error",
     "traceback": [
      "Error in rownames_to_column(df2, var = \"car\"): could not find function \"rownames_to_column\"\nTraceback:\n"
     ]
    }
   ],
   "source": [
    "\n",
    "df2 <- as.data.frame(df1)\n",
    "#df2 ismr3 <- lapply(ismr2, function(x){ row.names(x)<-as.character(x$ID); x})\n",
    "rownames(df2) <- rownames(df)\n",
    "#rownames_to_column(df2, var = \"car\") \n",
    "write.table(df2, \"df1.tsv\", sep = \"\\t\", quote = F)"
   ]
  },
  {
   "cell_type": "code",
   "execution_count": 77,
   "id": "118cf757",
   "metadata": {},
   "outputs": [
    {
     "data": {
      "text/html": [
       "<style>\n",
       ".list-inline {list-style: none; margin:0; padding: 0}\n",
       ".list-inline>li {display: inline-block}\n",
       ".list-inline>li:not(:last-child)::after {content: \"\\00b7\"; padding: 0 .5ex}\n",
       "</style>\n",
       "<ol class=list-inline><li>'site1'</li><li>'site2'</li></ol>\n"
      ],
      "text/latex": [
       "\\begin{enumerate*}\n",
       "\\item 'site1'\n",
       "\\item 'site2'\n",
       "\\end{enumerate*}\n"
      ],
      "text/markdown": [
       "1. 'site1'\n",
       "2. 'site2'\n",
       "\n",
       "\n"
      ],
      "text/plain": [
       "[1] \"site1\" \"site2\""
      ]
     },
     "metadata": {},
     "output_type": "display_data"
    }
   ],
   "source": [
    "df"
   ]
  },
  {
   "cell_type": "code",
   "execution_count": null,
   "id": "be405a9f",
   "metadata": {},
   "outputs": [],
   "source": []
  }
 ],
 "metadata": {
  "kernelspec": {
   "display_name": "R",
   "language": "R",
   "name": "ir"
  },
  "language_info": {
   "codemirror_mode": "r",
   "file_extension": ".r",
   "mimetype": "text/x-r-source",
   "name": "R",
   "pygments_lexer": "r",
   "version": "4.1.0"
  }
 },
 "nbformat": 4,
 "nbformat_minor": 5
}
