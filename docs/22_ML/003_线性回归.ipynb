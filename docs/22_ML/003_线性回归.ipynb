{
 "cells": [
  {
   "cell_type": "code",
   "execution_count": null,
   "metadata": {},
   "outputs": [],
   "source": [
    "\n",
    "\n",
    "线性回归\n",
    "## 使用lm() 函数\n",
    "```\n",
    "# 样本数据\n",
    "x <- c(151, 174, 138, 186, 128, 136, 179, 163, 152, 131)\n",
    "y <- c(63, 81, 56, 91, 47, 57, 76, 72, 62, 48)\n",
    "\n",
    "# 提交给 lm() 函数\n",
    "mod <- lm(y~x)\n",
    "```\n",
    "y为响应变量，x为预测变量，返回赋值叫lm object或者叫类的东西\n",
    "```\n",
    "names(mod1)\n",
    "```\n",
    "```\n",
    "mod\n",
    "\n",
    "Call:\n",
    "lm(formula = y ~ x)\n",
    "\n",
    "Coefficients:\n",
    "(Intercept)            x  \n",
    "   -38.4551       0.6746  \n",
    "```\n",
    "\n",
    "```\n",
    "summary(mod)\n",
    "```\n",
    "预测\n",
    "```\n",
    "a <- data.frame(x = 170)\n",
    "result <-  predict(mod,a)\n",
    "```\n",
    "\n",
    "# geom_smooth(lm) vs. do(lm)"
   ]
  }
 ],
 "metadata": {
  "language_info": {
   "name": "python"
  },
  "orig_nbformat": 4
 },
 "nbformat": 4,
 "nbformat_minor": 2
}
