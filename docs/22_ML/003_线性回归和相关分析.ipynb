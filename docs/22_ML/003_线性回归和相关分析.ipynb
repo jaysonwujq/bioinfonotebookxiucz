{
 "cells": [
  {
   "cell_type": "markdown",
   "metadata": {},
   "source": [
    "# 线性回归"
   ]
  },
  {
   "cell_type": "code",
   "execution_count": null,
   "metadata": {
    "vscode": {
     "languageId": "r"
    }
   },
   "outputs": [],
   "source": [
    "library(tidyverse, quietly = TRUE)\n",
    "options(repr.plot.width=4, repr.plot.height=3)\n"
   ]
  },
  {
   "cell_type": "code",
   "execution_count": 8,
   "metadata": {
    "vscode": {
     "languageId": "r"
    }
   },
   "outputs": [
    {
     "name": "stderr",
     "output_type": "stream",
     "text": [
      "\u001b[1mRows: \u001b[22m\u001b[34m1379\u001b[39m \u001b[1mColumns: \u001b[22m\u001b[34m6\u001b[39m\n",
      "\n",
      "\u001b[36m--\u001b[39m \u001b[1mColumn specification\u001b[22m \u001b[36m--------------------------------------------------------\u001b[39m\n",
      "\u001b[1mDelimiter:\u001b[22m \",\"\n",
      "\u001b[31mchr\u001b[39m (2): sex, race\n",
      "\u001b[32mdbl\u001b[39m (4): earn, height, ed, age\n",
      "\n",
      "\n",
      "\u001b[36mi\u001b[39m Use \u001b[30m\u001b[47m\u001b[30m\u001b[47m`spec()`\u001b[47m\u001b[30m\u001b[49m\u001b[39m to retrieve the full column specification for this data.\n",
      "\u001b[36mi\u001b[39m Specify the column types or set \u001b[30m\u001b[47m\u001b[30m\u001b[47m`show_col_types = FALSE`\u001b[47m\u001b[30m\u001b[49m\u001b[39m to quiet this message.\n",
      "\n"
     ]
    },
    {
     "data": {
      "image/png": "[encoded data removed]",
      "text/plain": [
       "plot without title"
      ]
     },
     "metadata": {
      "image/png": {
       "height": 180,
       "width": 240
      }
     },
     "output_type": "display_data"
    }
   ],
   "source": [
    "wages <- read_csv(\"./pics/wages.csv\")\n",
    "wages %>%\n",
    "  ggplot(aes(x = height, y = earn)) +\n",
    "  geom_point()\n",
    "\n",
    "#y为响应变量，x为预测变量，返回赋值叫lm object或者叫类的东西"
   ]
  },
  {
   "cell_type": "code",
   "execution_count": 9,
   "metadata": {
    "vscode": {
     "languageId": "r"
    }
   },
   "outputs": [
    {
     "data": {
      "text/plain": [
       "\n",
       "Call:\n",
       "lm(formula = earn ~ height, data = wages)\n",
       "\n",
       "Coefficients:\n",
       "(Intercept)       height  \n",
       "    -126523         2387  \n"
      ]
     },
     "metadata": {},
     "output_type": "display_data"
    }
   ],
   "source": [
    "# 提交给 lm() 函数\n",
    "mod <- lm(\n",
    "  formula = earn ~ height,\n",
    "  data = wages\n",
    ")\n",
    "mod"
   ]
  },
  {
   "cell_type": "markdown",
   "metadata": {},
   "source": [
    "这里有两部分信息。首先第一部分是我们建立的模型；第二部分是R给出了截距（α=−126532）和斜率（β=2387）. 也就是说我们建立的线性回归模型是`^y=−126532+2387x`"
   ]
  },
  {
   "cell_type": "code",
   "execution_count": 15,
   "metadata": {
    "vscode": {
     "languageId": "r"
    }
   },
   "outputs": [
    {
     "data": {
      "text/html": [
       "<style>\n",
       ".list-inline {list-style: none; margin:0; padding: 0}\n",
       ".list-inline>li {display: inline-block}\n",
       ".list-inline>li:not(:last-child)::after {content: \"\\00b7\"; padding: 0 .5ex}\n",
       "</style>\n",
       "<ol class=list-inline><li>'coefficients'</li><li>'residuals'</li><li>'effects'</li><li>'rank'</li><li>'fitted.values'</li><li>'assign'</li><li>'qr'</li><li>'df.residual'</li><li>'xlevels'</li><li>'call'</li><li>'terms'</li><li>'model'</li></ol>\n"
      ],
      "text/latex": [
       "\\begin{enumerate*}\n",
       "\\item 'coefficients'\n",
       "\\item 'residuals'\n",
       "\\item 'effects'\n",
       "\\item 'rank'\n",
       "\\item 'fitted.values'\n",
       "\\item 'assign'\n",
       "\\item 'qr'\n",
       "\\item 'df.residual'\n",
       "\\item 'xlevels'\n",
       "\\item 'call'\n",
       "\\item 'terms'\n",
       "\\item 'model'\n",
       "\\end{enumerate*}\n"
      ],
      "text/markdown": [
       "1. 'coefficients'\n",
       "2. 'residuals'\n",
       "3. 'effects'\n",
       "4. 'rank'\n",
       "5. 'fitted.values'\n",
       "6. 'assign'\n",
       "7. 'qr'\n",
       "8. 'df.residual'\n",
       "9. 'xlevels'\n",
       "10. 'call'\n",
       "11. 'terms'\n",
       "12. 'model'\n",
       "\n",
       "\n"
      ],
      "text/plain": [
       " [1] \"coefficients\"  \"residuals\"     \"effects\"       \"rank\"         \n",
       " [5] \"fitted.values\" \"assign\"        \"qr\"            \"df.residual\"  \n",
       " [9] \"xlevels\"       \"call\"          \"terms\"         \"model\"        "
      ]
     },
     "metadata": {},
     "output_type": "display_data"
    },
    {
     "data": {
      "text/html": [
       "0.0850307056474845"
      ],
      "text/latex": [
       "0.0850307056474845"
      ],
      "text/markdown": [
       "0.0850307056474845"
      ],
      "text/plain": [
       "[1] 0.08503071"
      ]
     },
     "metadata": {},
     "output_type": "display_data"
    }
   ],
   "source": [
    "names(mod)\n",
    "summary(mod)$r.squared"
   ]
  },
  {
   "cell_type": "code",
   "execution_count": 12,
   "metadata": {
    "vscode": {
     "languageId": "r"
    }
   },
   "outputs": [
    {
     "data": {
      "text/plain": [
       "\n",
       "Call:\n",
       "lm(formula = earn ~ height, data = wages)\n",
       "\n",
       "Residuals:\n",
       "   Min     1Q Median     3Q    Max \n",
       "-47903 -19744  -5184  11642 276796 \n",
       "\n",
       "Coefficients:\n",
       "            Estimate Std. Error t value Pr(>|t|)    \n",
       "(Intercept)  -126523      14076  -8.989   <2e-16 ***\n",
       "height          2387        211  11.312   <2e-16 ***\n",
       "---\n",
       "Signif. codes:  0 '***' 0.001 '**' 0.01 '*' 0.05 '.' 0.1 ' ' 1\n",
       "\n",
       "Residual standard error: 29910 on 1377 degrees of freedom\n",
       "Multiple R-squared:  0.08503,\tAdjusted R-squared:  0.08437 \n",
       "F-statistic:   128 on 1 and 1377 DF,  p-value: < 2.2e-16\n"
      ]
     },
     "metadata": {},
     "output_type": "display_data"
    }
   ],
   "source": [
    "#查看详细信息\n",
    "summary(mod)"
   ]
  },
  {
   "cell_type": "code",
   "execution_count": 3,
   "metadata": {
    "vscode": {
     "languageId": "r"
    }
   },
   "outputs": [],
   "source": [
    "#预测\n",
    "a <- data.frame(x = 170)\n",
    "result <-  predict(mod,a)"
   ]
  },
  {
   "cell_type": "code",
   "execution_count": 14,
   "metadata": {
    "vscode": {
     "languageId": "r"
    }
   },
   "outputs": [
    {
     "data": {
      "text/html": [
       "0.0850307056474845"
      ],
      "text/latex": [
       "0.0850307056474845"
      ],
      "text/markdown": [
       "0.0850307056474845"
      ],
      "text/plain": [
       "[1] 0.08503071"
      ]
     },
     "metadata": {},
     "output_type": "display_data"
    }
   ],
   "source": [
    "#查看残差值\n"
   ]
  },
  {
   "cell_type": "markdown",
   "metadata": {
    "vscode": {
     "languageId": "r"
    }
   },
   "source": [
    "https://bookdown.org/wangminjie/R4DS/tidystats-lm.html"
   ]
  },
  {
   "cell_type": "code",
   "execution_count": null,
   "metadata": {
    "vscode": {
     "languageId": "r"
    }
   },
   "outputs": [],
   "source": [
    "    a = format(as.vector(coef(lm)[1]), digits = 4)\n",
    "    b = format(as.vector(coef(lm)[2]), digits = 4)\n",
    "    r2 = format(summary(lm)$r.squared, digits = 5)\n",
    "    r2_adj = format(summary(lm)$adj.r.squared, digits = 5)\n",
    "\n",
    "    p <- df5 %>%\n",
    "    ggplot(aes(x = num, y = Ct)) +\n",
    "    geom_point() +\n",
    "    labs(title= var) +\n",
    "    geom_smooth(method = \"lm\", formula  = formula, se = T) +\n",
    "    stat_regline_equation( aes(label =  paste(..eq.label.., ..rr.label.., sep = \"~~~~\")), formula = formula) +\n",
    "    theme_classic()\n"
   ]
  },
  {
   "cell_type": "markdown",
   "metadata": {},
   "source": [
    "# 相关分析\n",
    "相关（Correlation）描述的是两个变量X和Y之间的联系紧密程度，而回归（Regression）则是度量X变量对Y变量的线性影响大小。常用表示相关性的系数为皮尔相关系数（Pearson correlation coefficient），简称相关系数（Correlation coefficient），其值介于 - 1与 1 之间。同时，我们在中学数学直线方程（y = a + bx ）常常提到的斜率b，即是回归系数（Regression coefficient）的一种表现形式，其值介于 -∞ 与 +∞ 之间。\n",
    "\n",
    "相关是关系强度的定量，而回归是关系趋势的定向。\n",
    "\n",
    "从统计实用的角度，在不涉及变量间数值预测的情况下，表述两组变量间的关系时推荐使用相关系数。\n",
    "\n",
    "\n",
    "> https://zhuanlan.zhihu.com/p/80744389\n",
    "\n",
    "> https://statsandr.com/blog/correlation-coefficient-and-correlation-test-in-r/"
   ]
  },
  {
   "cell_type": "markdown",
   "metadata": {},
   "source": []
  }
 ],
 "metadata": {
  "kernelspec": {
   "display_name": "R",
   "language": "R",
   "name": "ir"
  },
  "language_info": {
   "codemirror_mode": "r",
   "file_extension": ".r",
   "mimetype": "text/x-r-source",
   "name": "R",
   "pygments_lexer": "r",
   "version": "4.1.2"
  },
  "orig_nbformat": 4
 },
 "nbformat": 4,
 "nbformat_minor": 2
}
