{
 "metadata": {
  "language_info": {
   "codemirror_mode": {
    "name": "ipython",
    "version": 3
   },
   "file_extension": ".py",
   "mimetype": "text/x-python",
   "name": "python",
   "nbconvert_exporter": "python",
   "pygments_lexer": "ipython3",
   "version": 3
  },
  "orig_nbformat": 4
 },
 "nbformat": 4,
 "nbformat_minor": 2,
 "cells": [
  {
   "cell_type": "code",
   "execution_count": null,
   "metadata": {},
   "outputs": [],
   "source": [
    "```\n",
    "\n",
    "install.packages(\"randomForest\")\n",
    "\n",
    "data(iris)\n",
    "> head(iris)\n",
    "  Sepal.Length Sepal.Width Petal.Length Petal.Width Species\n",
    "1          5.1         3.5          1.4         0.2  setosa\n",
    "2          4.9         3.0          1.4         0.2  setosa\n",
    "3          4.7         3.2          1.3         0.2  setosa\n",
    "4          4.6         3.1          1.5         0.2  setosa\n",
    "5          5.0         3.6          1.4         0.2  setosa\n",
    "6          5.4         3.9          1.7         0.4  setosa\n",
    "\n",
    "\n",
    "set.seed(315)\n",
    "iris.rf = randomForest(Species ~ ., data=iris, importance=TRUE, proximity=TRUE)\n",
    "#显示结果，默认使用500个树，获得两个变量分离样品，错误评估矩阵\n",
    "> print(iris.rf)\n",
    "\n",
    "Call:\n",
    " randomForest(formula = Species ~ ., data = iris, importance = TRUE,      proximity = TRUE)\n",
    "               Type of random forest: classification\n",
    "                     Number of trees: 500\n",
    "No. of variables tried at each split: 2\n",
    "\n",
    "        OOB estimate of  error rate: 4%\n",
    "Confusion matrix:\n",
    "           setosa versicolor virginica class.error\n",
    "setosa         50          0         0        0.00\n",
    "versicolor      0         47         3        0.06\n",
    "virginica       0          3        47        0.06\n",
    "\n",
    "```\n",
    "随机森林的构建过程\n",
    "数据的随机性选取\n",
    "待选特征的随机选取。\n",
    "\n",
    "https://cloud.tencent.com/developer/article/1589177\n"
   ]
  }
 ]
}