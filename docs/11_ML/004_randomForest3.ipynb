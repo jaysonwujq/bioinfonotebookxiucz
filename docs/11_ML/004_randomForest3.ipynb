{
 "metadata": {
  "language_info": {
   "codemirror_mode": {
    "name": "ipython",
    "version": 3
   },
   "file_extension": ".py",
   "mimetype": "text/x-python",
   "name": "python",
   "nbconvert_exporter": "python",
   "pygments_lexer": "ipython3",
   "version": 3
  },
  "orig_nbformat": 4
 },
 "nbformat": 4,
 "nbformat_minor": 2,
 "cells": [
  {
   "cell_type": "code",
   "execution_count": null,
   "metadata": {},
   "outputs": [],
   "source": [
    "#rm(list=ls())\n",
    "library(tidyverse)\n",
    "library(\"randomForest\")\n",
    "library(\"rfUtilities\")\n",
    "library(\"rfPermute\")\n",
    "\n"
   ]
  },
  {
   "cell_type": "code",
   "execution_count": null,
   "metadata": {},
   "outputs": [],
   "source": [
    "load(\"RFdata1.RData\")\n",
    "head(RFdata3[,1:6])\n"
   ]
  },
  {
   "cell_type": "code",
   "execution_count": null,
   "metadata": {},
   "outputs": [],
   "source": [
    "RFdata3 %>%\n",
    "  mutate(treatments = as.factor(treatments)) -> RFdata3.1#目标变量转变为factors\n",
    "set.seed(123)\n",
    "treat_rf <- randomForest(treatments ~ ., data= RFdata3.1,\n",
    "                         importance=TRUE,proximity=TRUE)\n",
    "treat_rf\n"
   ]
  },
  {
   "source": [
    "----\n",
    "\n",
    "https://mp.weixin.qq.com/s/BWIyVWfCyK09S34p-sIkXg"
   ],
   "cell_type": "code",
   "metadata": {},
   "execution_count": null,
   "outputs": []
  }
 ]
}